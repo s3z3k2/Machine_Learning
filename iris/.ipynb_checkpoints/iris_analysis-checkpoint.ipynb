{
 "cells": [
  {
   "cell_type": "code",
   "execution_count": 1,
   "metadata": {},
   "outputs": [
    {
     "name": "stdout",
     "output_type": "stream",
     "text": [
      "Hello\n",
      "4\n"
     ]
    }
   ],
   "source": [
    "# Pythonによる機械学習の視覚化ツールとしてJupyter Notebookを使用\n",
    "# 使用方法は少し面倒臭いので、使いたければ直接質問ください。\n",
    "# Jupyter Notebookは'セル'と呼ばれる単位で構成される\n",
    "# セルごとにPythonのコードを実行することが出来る\n",
    "\n",
    "# 例 )\n",
    "print('Hello')\n",
    "\n",
    "a = 1\n",
    "b = 3\n",
    "\n",
    "print(a + b)"
   ]
  },
  {
   "cell_type": "code",
   "execution_count": null,
   "metadata": {},
   "outputs": [],
   "source": [
    "# モジュールのインポート\n",
    "import numpy as np\n",
    "import pandas as pd\n",
    "import matplotlib\n",
    "import matplotlib.pyplot as plt\n",
    "import seaborn as sns"
   ]
  },
  {
   "cell_type": "code",
   "execution_count": null,
   "metadata": {},
   "outputs": [],
   "source": [
    "# matplotlibのインライン化\n",
    "% matplotlib inline"
   ]
  },
  {
   "cell_type": "code",
   "execution_count": null,
   "metadata": {},
   "outputs": [],
   "source": [
    "# irisデータセットの読み込み\n",
    "from sklearn.datasets import load_iris\n",
    "iris = load_iris()\n",
    "\n",
    "df = pd.DataFrame(iris.data, columns=iris.feature_names)\n",
    "df.head"
   ]
  },
  {
   "cell_type": "code",
   "execution_count": null,
   "metadata": {},
   "outputs": [],
   "source": [
    "# irisクラスの読み込み\n",
    "df_ans = iris.target\n",
    "df_ans"
   ]
  },
  {
   "cell_type": "code",
   "execution_count": null,
   "metadata": {},
   "outputs": [],
   "source": [
    "# irisクラスの番号−種類関係\n",
    "iris.target_names"
   ]
  },
  {
   "cell_type": "code",
   "execution_count": null,
   "metadata": {},
   "outputs": [],
   "source": [
    "# irisクラスをデータセットに変換\n",
    "df_ans = pd.DataFrame(df_ans)\n",
    "df_ans.head()"
   ]
  },
  {
   "cell_type": "code",
   "execution_count": null,
   "metadata": {},
   "outputs": [],
   "source": [
    "# データフレームの整形\n",
    "df['class'] = df_ans\n",
    "df['name'] = iris.target_names[df['class']]\n",
    "df.head()"
   ]
  },
  {
   "cell_type": "code",
   "execution_count": null,
   "metadata": {},
   "outputs": [],
   "source": [
    "# 欠損値を一つでも含む行を抽出する (水平方向に any を実行することで行を抽出する)\n",
    "df_missing = df[df.isnull().any(axis=1)]\n",
    "df_missing"
   ]
  },
  {
   "cell_type": "code",
   "execution_count": null,
   "metadata": {},
   "outputs": [],
   "source": [
    "# 各クラスの特徴量の傾向\n",
    "plt.figure(figsize=(8,8))\n",
    "\n",
    "i = 0\n",
    "for col in df.columns[0:4]:\n",
    "    i = i + 1\n",
    "    plt.subplot(2, 2, i)\n",
    "    sns.boxplot(x='name' , y=col , data=df)\n",
    "    \n",
    "plt.tight_layout()\n",
    "\n",
    "# 全ての特徴量に明確な関係性が見られる"
   ]
  },
  {
   "cell_type": "code",
   "execution_count": null,
   "metadata": {},
   "outputs": [],
   "source": [
    "# 相関行列の作成\n",
    "cr = ['sepal length (cm)' , 'sepal width (cm)' ,  'petal length (cm)' ,  'petal width (cm)']\n",
    "cr_matrix = df[cr].corr()\n",
    "heatmap = sns.heatmap(cr_matrix,cbar=True,annot=True,square=True,fmt='.2f',annot_kws={'size': 15},yticklabels=cr,xticklabels=cr)"
   ]
  },
  {
   "cell_type": "code",
   "execution_count": null,
   "metadata": {},
   "outputs": [],
   "source": [
    "# データのランダム抽出\n",
    "df = df.take(np.random.permutation(len(df)))\n",
    "df = df.reset_index(drop=True)\n",
    "df_test = df[0:50]\n",
    "df_train = df[50:150]\n",
    "\n",
    "df_train.head()"
   ]
  },
  {
   "cell_type": "code",
   "execution_count": null,
   "metadata": {},
   "outputs": [],
   "source": [
    "# DFをarrayに変換\n",
    "se_test = np.array(df_test)\n",
    "se_test"
   ]
  },
  {
   "cell_type": "code",
   "execution_count": null,
   "metadata": {},
   "outputs": [],
   "source": []
  }
 ],
 "metadata": {
  "kernelspec": {
   "display_name": "Python 3",
   "language": "python",
   "name": "python3"
  },
  "language_info": {
   "codemirror_mode": {
    "name": "ipython",
    "version": 3
   },
   "file_extension": ".py",
   "mimetype": "text/x-python",
   "name": "python",
   "nbconvert_exporter": "python",
   "pygments_lexer": "ipython3",
   "version": "3.6.3"
  }
 },
 "nbformat": 4,
 "nbformat_minor": 2
}
